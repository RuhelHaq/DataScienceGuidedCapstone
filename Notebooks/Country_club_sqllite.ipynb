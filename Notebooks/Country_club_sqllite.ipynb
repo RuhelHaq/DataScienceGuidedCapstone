{
 "cells": [
  {
   "cell_type": "code",
   "execution_count": 1,
   "id": "c09362a3",
   "metadata": {},
   "outputs": [],
   "source": [
    "# import create engine from sqlalchemy\n",
    "from sqlalchemy import create_engine\n",
    "import pandas as pd"
   ]
  },
  {
   "cell_type": "code",
   "execution_count": 5,
   "id": "debba21a",
   "metadata": {},
   "outputs": [
    {
     "name": "stdout",
     "output_type": "stream",
     "text": [
      "['memid', 'surname', 'firstname', 'address', 'zipcode', 'telephone', 'recommendedby', 'joindate']\n",
      "['bookid', 'facid', 'memid', 'starttime', 'slots']\n",
      "['facid', 'name', 'membercost', 'guestcost', 'initialoutlay', 'monthlymaintenance']\n"
     ]
    },
    {
     "data": {
      "text/plain": [
       "9"
      ]
     },
     "execution_count": 5,
     "metadata": {},
     "output_type": "execute_result"
    }
   ],
   "source": [
    "# load csv members table \n",
    "\n",
    "members_df = pd.read_csv('/Users/ruhel/Desktop/Members.csv',index_col=False)\n",
    "bookings_df = pd.read_csv('/Users/ruhel/Desktop/Bookings.csv',index_col=False)\n",
    "facilities_df = pd.read_csv('/Users/ruhel/Desktop/Facilities.csv',index_col=False)\n",
    "print(members_df.columns.tolist())\n",
    "print(bookings_df.columns.tolist())\n",
    "print(facilities_df.columns.tolist())\n",
    "# create engine \n",
    "\n",
    "engine = create_engine('sqlite:///country_club.sqlite')\n",
    "\n",
    "# save the dataframes as sql table\n",
    "\n",
    "members_df.to_sql('members', con=engine, if_exists='replace',index=False)\n",
    "bookings_df.to_sql('bookings',con=engine, if_exists='replace',index=False)\n",
    "facilities_df.to_sql('facilities',con=engine, if_exists='replace',index=False)"
   ]
  },
  {
   "cell_type": "code",
   "execution_count": 6,
   "id": "c02f2dc6",
   "metadata": {},
   "outputs": [],
   "source": [
    "# Quering the Members table \n",
    "\n",
    "df_members=pd.read_sql('SELECT * FROM members', con=engine)"
   ]
  },
  {
   "cell_type": "code",
   "execution_count": 7,
   "id": "0517f6ee",
   "metadata": {},
   "outputs": [
    {
     "data": {
      "text/html": [
       "<div>\n",
       "<style scoped>\n",
       "    .dataframe tbody tr th:only-of-type {\n",
       "        vertical-align: middle;\n",
       "    }\n",
       "\n",
       "    .dataframe tbody tr th {\n",
       "        vertical-align: top;\n",
       "    }\n",
       "\n",
       "    .dataframe thead th {\n",
       "        text-align: right;\n",
       "    }\n",
       "</style>\n",
       "<table border=\"1\" class=\"dataframe\">\n",
       "  <thead>\n",
       "    <tr style=\"text-align: right;\">\n",
       "      <th></th>\n",
       "      <th>memid</th>\n",
       "      <th>surname</th>\n",
       "      <th>firstname</th>\n",
       "      <th>address</th>\n",
       "      <th>zipcode</th>\n",
       "      <th>telephone</th>\n",
       "      <th>recommendedby</th>\n",
       "      <th>joindate</th>\n",
       "    </tr>\n",
       "  </thead>\n",
       "  <tbody>\n",
       "    <tr>\n",
       "      <th>0</th>\n",
       "      <td>0</td>\n",
       "      <td>GUEST</td>\n",
       "      <td>GUEST</td>\n",
       "      <td>GUEST</td>\n",
       "      <td>0</td>\n",
       "      <td>(000) 000-0000</td>\n",
       "      <td>NaN</td>\n",
       "      <td>2012-07-01 00:00:00</td>\n",
       "    </tr>\n",
       "    <tr>\n",
       "      <th>1</th>\n",
       "      <td>1</td>\n",
       "      <td>Smith</td>\n",
       "      <td>Darren</td>\n",
       "      <td>8 Bloomsbury Close, Boston</td>\n",
       "      <td>4321</td>\n",
       "      <td>555-555-5555</td>\n",
       "      <td>NaN</td>\n",
       "      <td>2012-07-02 12:02:05</td>\n",
       "    </tr>\n",
       "    <tr>\n",
       "      <th>2</th>\n",
       "      <td>2</td>\n",
       "      <td>Smith</td>\n",
       "      <td>Tracy</td>\n",
       "      <td>8 Bloomsbury Close, New York</td>\n",
       "      <td>4321</td>\n",
       "      <td>555-555-5555</td>\n",
       "      <td>NaN</td>\n",
       "      <td>2012-07-02 12:08:23</td>\n",
       "    </tr>\n",
       "    <tr>\n",
       "      <th>3</th>\n",
       "      <td>3</td>\n",
       "      <td>Rownam</td>\n",
       "      <td>Tim</td>\n",
       "      <td>23 Highway Way, Boston</td>\n",
       "      <td>23423</td>\n",
       "      <td>(844) 693-0723</td>\n",
       "      <td>NaN</td>\n",
       "      <td>2012-07-03 09:32:15</td>\n",
       "    </tr>\n",
       "    <tr>\n",
       "      <th>4</th>\n",
       "      <td>4</td>\n",
       "      <td>Joplette</td>\n",
       "      <td>Janice</td>\n",
       "      <td>20 Crossing Road, New York</td>\n",
       "      <td>234</td>\n",
       "      <td>(833) 942-4710</td>\n",
       "      <td>1.0</td>\n",
       "      <td>2012-07-03 10:25:05</td>\n",
       "    </tr>\n",
       "  </tbody>\n",
       "</table>\n",
       "</div>"
      ],
      "text/plain": [
       "   memid   surname firstname                       address  zipcode  \\\n",
       "0      0     GUEST     GUEST                         GUEST        0   \n",
       "1      1     Smith    Darren    8 Bloomsbury Close, Boston     4321   \n",
       "2      2     Smith     Tracy  8 Bloomsbury Close, New York     4321   \n",
       "3      3    Rownam       Tim        23 Highway Way, Boston    23423   \n",
       "4      4  Joplette    Janice    20 Crossing Road, New York      234   \n",
       "\n",
       "        telephone  recommendedby             joindate  \n",
       "0  (000) 000-0000            NaN  2012-07-01 00:00:00  \n",
       "1    555-555-5555            NaN  2012-07-02 12:02:05  \n",
       "2    555-555-5555            NaN  2012-07-02 12:08:23  \n",
       "3  (844) 693-0723            NaN  2012-07-03 09:32:15  \n",
       "4  (833) 942-4710            1.0  2012-07-03 10:25:05  "
      ]
     },
     "execution_count": 7,
     "metadata": {},
     "output_type": "execute_result"
    }
   ],
   "source": [
    "df_members.head()"
   ]
  },
  {
   "cell_type": "code",
   "execution_count": 8,
   "id": "57f3bb97",
   "metadata": {},
   "outputs": [
    {
     "data": {
      "text/html": [
       "<div>\n",
       "<style scoped>\n",
       "    .dataframe tbody tr th:only-of-type {\n",
       "        vertical-align: middle;\n",
       "    }\n",
       "\n",
       "    .dataframe tbody tr th {\n",
       "        vertical-align: top;\n",
       "    }\n",
       "\n",
       "    .dataframe thead th {\n",
       "        text-align: right;\n",
       "    }\n",
       "</style>\n",
       "<table border=\"1\" class=\"dataframe\">\n",
       "  <thead>\n",
       "    <tr style=\"text-align: right;\">\n",
       "      <th></th>\n",
       "      <th>bookid</th>\n",
       "      <th>facid</th>\n",
       "      <th>memid</th>\n",
       "      <th>starttime</th>\n",
       "      <th>slots</th>\n",
       "    </tr>\n",
       "  </thead>\n",
       "  <tbody>\n",
       "    <tr>\n",
       "      <th>0</th>\n",
       "      <td>0</td>\n",
       "      <td>3</td>\n",
       "      <td>1</td>\n",
       "      <td>2012-07-03 11:00:00</td>\n",
       "      <td>2</td>\n",
       "    </tr>\n",
       "    <tr>\n",
       "      <th>1</th>\n",
       "      <td>1</td>\n",
       "      <td>4</td>\n",
       "      <td>1</td>\n",
       "      <td>2012-07-03 08:00:00</td>\n",
       "      <td>2</td>\n",
       "    </tr>\n",
       "    <tr>\n",
       "      <th>2</th>\n",
       "      <td>2</td>\n",
       "      <td>6</td>\n",
       "      <td>0</td>\n",
       "      <td>2012-07-03 18:00:00</td>\n",
       "      <td>2</td>\n",
       "    </tr>\n",
       "    <tr>\n",
       "      <th>3</th>\n",
       "      <td>3</td>\n",
       "      <td>7</td>\n",
       "      <td>1</td>\n",
       "      <td>2012-07-03 19:00:00</td>\n",
       "      <td>2</td>\n",
       "    </tr>\n",
       "    <tr>\n",
       "      <th>4</th>\n",
       "      <td>4</td>\n",
       "      <td>8</td>\n",
       "      <td>1</td>\n",
       "      <td>2012-07-03 10:00:00</td>\n",
       "      <td>1</td>\n",
       "    </tr>\n",
       "  </tbody>\n",
       "</table>\n",
       "</div>"
      ],
      "text/plain": [
       "   bookid  facid  memid            starttime  slots\n",
       "0       0      3      1  2012-07-03 11:00:00      2\n",
       "1       1      4      1  2012-07-03 08:00:00      2\n",
       "2       2      6      0  2012-07-03 18:00:00      2\n",
       "3       3      7      1  2012-07-03 19:00:00      2\n",
       "4       4      8      1  2012-07-03 10:00:00      1"
      ]
     },
     "execution_count": 8,
     "metadata": {},
     "output_type": "execute_result"
    }
   ],
   "source": [
    "# Quering the bookings table\n",
    "df_booking=pd.read_sql('SELECT * FROM bookings', con=engine)\n",
    "df_booking.head()"
   ]
  },
  {
   "cell_type": "code",
   "execution_count": 9,
   "id": "4eea8571",
   "metadata": {},
   "outputs": [
    {
     "data": {
      "text/html": [
       "<div>\n",
       "<style scoped>\n",
       "    .dataframe tbody tr th:only-of-type {\n",
       "        vertical-align: middle;\n",
       "    }\n",
       "\n",
       "    .dataframe tbody tr th {\n",
       "        vertical-align: top;\n",
       "    }\n",
       "\n",
       "    .dataframe thead th {\n",
       "        text-align: right;\n",
       "    }\n",
       "</style>\n",
       "<table border=\"1\" class=\"dataframe\">\n",
       "  <thead>\n",
       "    <tr style=\"text-align: right;\">\n",
       "      <th></th>\n",
       "      <th>facid</th>\n",
       "      <th>name</th>\n",
       "      <th>membercost</th>\n",
       "      <th>guestcost</th>\n",
       "      <th>initialoutlay</th>\n",
       "      <th>monthlymaintenance</th>\n",
       "    </tr>\n",
       "  </thead>\n",
       "  <tbody>\n",
       "    <tr>\n",
       "      <th>0</th>\n",
       "      <td>0</td>\n",
       "      <td>Tennis Court 1</td>\n",
       "      <td>5.0</td>\n",
       "      <td>25.0</td>\n",
       "      <td>10000</td>\n",
       "      <td>200</td>\n",
       "    </tr>\n",
       "    <tr>\n",
       "      <th>1</th>\n",
       "      <td>1</td>\n",
       "      <td>Tennis Court 2</td>\n",
       "      <td>5.0</td>\n",
       "      <td>25.0</td>\n",
       "      <td>8000</td>\n",
       "      <td>200</td>\n",
       "    </tr>\n",
       "    <tr>\n",
       "      <th>2</th>\n",
       "      <td>2</td>\n",
       "      <td>Badminton Court</td>\n",
       "      <td>0.0</td>\n",
       "      <td>15.5</td>\n",
       "      <td>4000</td>\n",
       "      <td>50</td>\n",
       "    </tr>\n",
       "    <tr>\n",
       "      <th>3</th>\n",
       "      <td>3</td>\n",
       "      <td>Table Tennis</td>\n",
       "      <td>0.0</td>\n",
       "      <td>5.0</td>\n",
       "      <td>320</td>\n",
       "      <td>10</td>\n",
       "    </tr>\n",
       "    <tr>\n",
       "      <th>4</th>\n",
       "      <td>4</td>\n",
       "      <td>Massage Room 1</td>\n",
       "      <td>9.9</td>\n",
       "      <td>80.0</td>\n",
       "      <td>4000</td>\n",
       "      <td>3000</td>\n",
       "    </tr>\n",
       "  </tbody>\n",
       "</table>\n",
       "</div>"
      ],
      "text/plain": [
       "   facid             name  membercost  guestcost  initialoutlay  \\\n",
       "0      0   Tennis Court 1         5.0       25.0          10000   \n",
       "1      1   Tennis Court 2         5.0       25.0           8000   \n",
       "2      2  Badminton Court         0.0       15.5           4000   \n",
       "3      3     Table Tennis         0.0        5.0            320   \n",
       "4      4   Massage Room 1         9.9       80.0           4000   \n",
       "\n",
       "   monthlymaintenance  \n",
       "0                 200  \n",
       "1                 200  \n",
       "2                  50  \n",
       "3                  10  \n",
       "4                3000  "
      ]
     },
     "execution_count": 9,
     "metadata": {},
     "output_type": "execute_result"
    }
   ],
   "source": [
    "# Quering the facilities table\n",
    "df_facilities=pd.read_sql('SELECT * FROM facilities', con=engine)\n",
    "df_facilities.head()"
   ]
  },
  {
   "cell_type": "markdown",
   "id": "f953c8c0",
   "metadata": {},
   "source": [
    "**Q10: Produce a list of facilities with a total revenue less than 1000.\n",
    "The output of facility name and total revenue, sorted by revenue. Remember\n",
    "that there's a different cost for guests and members!**\n"
   ]
  },
  {
   "cell_type": "code",
   "execution_count": 17,
   "id": "9cfdf6d1",
   "metadata": {},
   "outputs": [
    {
     "name": "stdout",
     "output_type": "stream",
     "text": [
      "Empty DataFrame\n",
      "Columns: [facility_name, Total_revenue]\n",
      "Index: []\n"
     ]
    }
   ],
   "source": [
    "sql_query = \"\"\"\n",
    "               SELECT f.name AS facility_name, \n",
    "                        SUM(CASE WHEN b.memid=0 THEN f.guestcost*b.slots\n",
    "                                 ELSE b.memid * b.slots END) AS Total_revenue\n",
    "               FROM bookings AS b\n",
    "               INNER JOIN facilities AS f\n",
    "               ON f.facid = b.facid\n",
    "               GROUP BY f.name\n",
    "               Having Total_revenue < 1000\n",
    "               ORDER BY Total_revenue DESC;\n",
    "               \"\"\"\n",
    "Total_revenue = pd.read_sql(sql_query, con=engine)\n",
    "print(Total_revenue)"
   ]
  },
  {
   "cell_type": "markdown",
   "id": "ed2645c9",
   "metadata": {},
   "source": [
    "**NO facility meets the condition.**"
   ]
  },
  {
   "cell_type": "markdown",
   "id": "23d44774",
   "metadata": {},
   "source": [
    "**Q11: Produce a report of members and who recommended them in alphabetic surname,firstname order**\n"
   ]
  },
  {
   "cell_type": "code",
   "execution_count": 21,
   "id": "71892324",
   "metadata": {},
   "outputs": [
    {
     "name": "stdout",
     "output_type": "stream",
     "text": [
      "  member_surname member_firstname recommenders_surname recommenders_firstname\n",
      "0          Bader         Florence               Sarwin              Ramnaresh\n",
      "1          Baker             Anne                 None                   None\n",
      "2          Baker          Timothy               Coplin                   Joan\n",
      "3         Boothe              Tim                 None                   None\n",
      "4        Butters           Gerald              Genting                Matthew\n"
     ]
    }
   ],
   "source": [
    "query=\"\"\"\n",
    "          SELECT m1.surname AS member_surname,\n",
    "          m1.firstname AS member_firstname,\n",
    "          m2.surname AS recommenders_surname,\n",
    "          m2.firstname AS recommenders_firstname\n",
    "          FROM members AS m1\n",
    "          LEFT JOIN members AS m2\n",
    "          ON m1.memid=m2.recommendedby\n",
    "          ORDER BY m1.surname, m1.firstname;\n",
    "          \"\"\"\n",
    "members_report=pd.read_sql(query, con=engine) \n",
    "print(members_report.head())"
   ]
  },
  {
   "cell_type": "markdown",
   "id": "cf7b0ab3",
   "metadata": {},
   "source": [
    "**Q12: Find the facilities with their usage by member, but not guests**\n"
   ]
  },
  {
   "cell_type": "code",
   "execution_count": 23,
   "id": "037d99b8",
   "metadata": {},
   "outputs": [
    {
     "name": "stdout",
     "output_type": "stream",
     "text": [
      "          facility  Total_bookings\n",
      "0  Badminton Court            1086\n",
      "1   Tennis Court 1             957\n",
      "2   Massage Room 1             884\n",
      "3   Tennis Court 2             882\n",
      "4    Snooker Table             860\n"
     ]
    }
   ],
   "source": [
    "Query1=\"\"\"\n",
    "          SELECT f.name AS facility,\n",
    "                 SUM(b.slots) AS Total_bookings\n",
    "           FROM bookings AS b\n",
    "           LEFT JOIN facilities AS f\n",
    "           ON f.facid=b.facid\n",
    "           WHERE b.memid != 0\n",
    "           GROUP BY f.name\n",
    "           ORDER BY Total_bookings DESC;\n",
    "        \"\"\"\n",
    "Usage_by_member=pd.read_sql(Query1, con=engine)\n",
    "print(Usage_by_member.head())"
   ]
  },
  {
   "cell_type": "markdown",
   "id": "37c81f9c",
   "metadata": {},
   "source": [
    "**Q13: Find the facilities usage by month, but not guests**"
   ]
  },
  {
   "cell_type": "code",
   "execution_count": 30,
   "id": "0af320ab",
   "metadata": {},
   "outputs": [
    {
     "name": "stdout",
     "output_type": "stream",
     "text": [
      "     facility_name month  Total_bookings\n",
      "0  Badminton Court    07            1086\n",
      "1   Massage Room 1    07             884\n",
      "2   Massage Room 2    07              54\n",
      "3       Pool Table    07             856\n",
      "4    Snooker Table    07             860\n"
     ]
    }
   ],
   "source": [
    "Query2 = \"\"\" \n",
    "            SELECT f.name AS facility_name,\n",
    "            strftime ('%m', b.starttime) AS month,\n",
    "            SUM(b.slots) AS Total_bookings\n",
    "            FROM facilities AS f\n",
    "            JOIN bookings AS b\n",
    "            ON b.facid=f.facid\n",
    "            WHERE b.memid !=0\n",
    "            GROUP BY f.name\n",
    "            ORDER BY month;\n",
    "\n",
    "            \"\"\"\n",
    "usage_by_month = pd.read_sql(Query2, con=engine)\n",
    "print(usage_by_month.head())"
   ]
  },
  {
   "cell_type": "code",
   "execution_count": null,
   "id": "4ff3ba99",
   "metadata": {},
   "outputs": [],
   "source": []
  }
 ],
 "metadata": {
  "kernelspec": {
   "display_name": "Python 3 (ipykernel)",
   "language": "python",
   "name": "python3"
  },
  "language_info": {
   "codemirror_mode": {
    "name": "ipython",
    "version": 3
   },
   "file_extension": ".py",
   "mimetype": "text/x-python",
   "name": "python",
   "nbconvert_exporter": "python",
   "pygments_lexer": "ipython3",
   "version": "3.10.9"
  }
 },
 "nbformat": 4,
 "nbformat_minor": 5
}
